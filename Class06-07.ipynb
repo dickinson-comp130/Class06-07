{
 "cells": [
  {
   "cell_type": "markdown",
   "metadata": {
    "deletable": false,
    "editable": false,
    "run_control": {
     "frozen": true
    }
   },
   "source": [
    "# Class 06-07 - More Functions, Modules and Objects  \n",
    "**COMP130 - Introduction to Computing**  \n",
    "**Dickinson College**  \n",
    "\n",
    "### Names:"
   ]
  },
  {
   "cell_type": "markdown",
   "metadata": {},
   "source": [
    "As usual, your name(s) should go here."
   ]
  },
  {
   "cell_type": "markdown",
   "metadata": {
    "deletable": false,
    "editable": false,
    "run_control": {
     "frozen": true
    }
   },
   "source": [
    "### Objects"
   ]
  },
  {
   "cell_type": "markdown",
   "metadata": {
    "deletable": false,
    "editable": false,
    "run_control": {
     "frozen": true
    }
   },
   "source": [
    "__Q1:__ An *object* is made up of what two things?  Briefly define each."
   ]
  },
  {
   "cell_type": "markdown",
   "metadata": {},
   "source": [
    "1. state\n",
    " * An object's _state_ is the variables that define that object, along with the values of the variables.\n",
    "2. methods\n",
    " * An object's _methods_ are the functions that change or make use of the state of the object."
   ]
  },
  {
   "cell_type": "markdown",
   "metadata": {
    "deletable": false,
    "editable": false,
    "run_control": {
     "frozen": true
    }
   },
   "source": [
    "__Q2:__ What is a *constructor*?  What is its job?"
   ]
  },
  {
   "cell_type": "markdown",
   "metadata": {},
   "source": [
    "A constructor is a special method that creates (or *initializes*) a new object."
   ]
  },
  {
   "cell_type": "markdown",
   "metadata": {
    "deletable": false,
    "editable": false,
    "run_control": {
     "frozen": true
    }
   },
   "source": [
    "__Q3:__ Imagine some of the code behind Netflix.  What *state* might an object representing a movie need to contain?"
   ]
  },
  {
   "cell_type": "markdown",
   "metadata": {},
   "source": [
    "* name --> \"Miller's Crossing\"\n",
    "* year --> 1990\n",
    "* director --> \"Joel Coen\"\n",
    "* genre --> \"gangster\"\n",
    "* star1 --> \"Gabriel Byrne\"\n",
    "* star2 --> \"Marcia Gay Harden\"\n",
    "* playback_speed --> \"normal\"\n",
    "* current_scene --> 1"
   ]
  },
  {
   "cell_type": "markdown",
   "metadata": {
    "deletable": false,
    "editable": false,
    "run_control": {
     "frozen": true
    }
   },
   "source": [
    "__Q4:__ What *methods* might an object representing a movie need to contain?"
   ]
  },
  {
   "cell_type": "markdown",
   "metadata": {},
   "source": [
    "* play_movie( )\n",
    "* pause_movie( )\n",
    "* next_scene( )\n",
    "* prev_ scene( )\n",
    "* subtitle_lang( )\n",
    "* mute( )"
   ]
  },
  {
   "cell_type": "markdown",
   "metadata": {
    "deletable": false,
    "editable": false,
    "run_control": {
     "frozen": true
    }
   },
   "source": [
    "__Q5:__ For one method in __Q4__ explain how it would use or modify the state of a movie object."
   ]
  },
  {
   "cell_type": "markdown",
   "metadata": {},
   "source": [
    "The *next_scene( )* method would change the *current_scene* the movie is playing to the following scene in the movie."
   ]
  },
  {
   "cell_type": "markdown",
   "metadata": {
    "deletable": false,
    "editable": false,
    "run_control": {
     "frozen": true
    }
   },
   "source": [
    "### `Turtle` Objects"
   ]
  },
  {
   "cell_type": "markdown",
   "metadata": {
    "deletable": false,
    "editable": false,
    "run_control": {
     "frozen": true
    }
   },
   "source": [
    "The documentation for the `turtle` module on the course home page and the `TurtleExample.ipynb` notebook from class (in the same folder as this notebook) will be useful in answering some of the following questions."
   ]
  },
  {
   "cell_type": "markdown",
   "metadata": {
    "deletable": false,
    "editable": false,
    "run_control": {
     "frozen": true
    }
   },
   "source": [
    "__Q6:__ Run the following code cell and then draw an *object state diagram* representing the state of the `Turtle` referred to by `meg` when the program has finished. Take a picture of your object state diagram and put it into the markdown field below."
   ]
  },
  {
   "cell_type": "code",
   "execution_count": 1,
   "metadata": {
    "deletable": false,
    "editable": false
   },
   "outputs": [],
   "source": [
    "import turtle\n",
    "meg=turtle.Turtle()"
   ]
  },
  {
   "cell_type": "markdown",
   "metadata": {},
   "source": [
    "* xcor --> 0\n",
    "* ycor --> 0"
   ]
  },
  {
   "cell_type": "markdown",
   "metadata": {
    "deletable": false,
    "editable": false,
    "run_control": {
     "frozen": true
    }
   },
   "source": [
    "__Q7:__ Run the following code cell. Update your *object state diagram* to match `meg`s new state.  Take a picture of your object state diagram and put it into the markdown field below."
   ]
  },
  {
   "cell_type": "code",
   "execution_count": 2,
   "metadata": {
    "deletable": false,
    "editable": false
   },
   "outputs": [],
   "source": [
    "meg.pencolor('blue')\n",
    "meg.forward(50)\n",
    "meg.left(90)\n",
    "meg.forward(100)\n",
    "meg.penup()"
   ]
  },
  {
   "cell_type": "markdown",
   "metadata": {},
   "source": [
    "* xcor --> 50\n",
    "* ycor --> 100\n",
    "* heading --> 90\n",
    "* pencolor --> 'blue'\n",
    "* penup --> up"
   ]
  },
  {
   "cell_type": "markdown",
   "metadata": {
    "deletable": false,
    "editable": false,
    "run_control": {
     "frozen": true
    }
   },
   "source": [
    "__Q8:__ Run the code cell below, update your state diagram to match `meg`'s new state.  Take a picture of your updated object state diagram and put it into the markdown field below.  Hint: Don't compute the state by hand... add a code cell."
   ]
  },
  {
   "cell_type": "code",
   "execution_count": 3,
   "metadata": {
    "deletable": false,
    "editable": false
   },
   "outputs": [],
   "source": [
    "meg.right(38)\n",
    "meg.forward(82)"
   ]
  },
  {
   "cell_type": "code",
   "execution_count": 4,
   "metadata": {},
   "outputs": [
    {
     "name": "stdout",
     "output_type": "stream",
     "text": [
      "100.48424097670397\n",
      "164.61688179575123\n",
      "52.0\n",
      "blue\n",
      "None\n"
     ]
    }
   ],
   "source": [
    "print(meg.xcor())\n",
    "print(meg.ycor())\n",
    "print(meg.heading())\n",
    "print(meg.pencolor())\n",
    "print(meg.penup())"
   ]
  },
  {
   "cell_type": "markdown",
   "metadata": {},
   "source": [
    "xcor --> 100.48424097670397\n",
    "ycor --> 164.61688179575123\n",
    "heading --> 52.0\n",
    "pencolor --> blue\n",
    "penup --> None"
   ]
  },
  {
   "cell_type": "markdown",
   "metadata": {},
   "source": [
    "Note: The state of `meg.penup( )` is returned as _None_ because `penup( )` is a method that _does_ something (stops the turtle drawing) rather than a function that _returns_ some piece of data. (Notice that `penup()` takes no argument!)\n",
    "\n",
    "See what happens when we try to get the __type__ of data that `penup( )` delivers:"
   ]
  },
  {
   "cell_type": "code",
   "execution_count": 5,
   "metadata": {},
   "outputs": [
    {
     "data": {
      "text/plain": [
       "NoneType"
      ]
     },
     "execution_count": 5,
     "metadata": {},
     "output_type": "execute_result"
    }
   ],
   "source": [
    "type(meg.penup())"
   ]
  },
  {
   "cell_type": "markdown",
   "metadata": {
    "deletable": false,
    "editable": false,
    "run_control": {
     "frozen": true
    }
   },
   "source": [
    "__Q9:__ Use the *Reset and Clear Output* option on the *Kernel* menu to close the Turtle Window. Write a program that creates a `Turtle` and causes it to draw a rectangle that is not a square.  Be sure to import the `turtle` module into your program."
   ]
  },
  {
   "cell_type": "code",
   "execution_count": 6,
   "metadata": {},
   "outputs": [],
   "source": [
    "from turtle import *\n",
    "\n",
    "sqTurt = Turtle()\n",
    "sqTurt.pencolor('blue')\n",
    "sqTurt.forward(100)\n",
    "sqTurt.left(90)\n",
    "sqTurt.forward(50)\n",
    "sqTurt.left(90)\n",
    "sqTurt.forward(100)\n",
    "sqTurt.left(90)\n",
    "sqTurt.forward(50)\n",
    "sqTurt.penup()"
   ]
  },
  {
   "cell_type": "markdown",
   "metadata": {
    "deletable": false,
    "editable": false,
    "run_control": {
     "frozen": true
    }
   },
   "source": [
    "__Q10:__ Use the *Reset and Clear Output* option on the *Kernel* menu to close the Turtle Window. Write a program that uses the `goto` method in the `Turtle` class to draw a right triangle. Be sure to import the turtle module into your program."
   ]
  },
  {
   "cell_type": "code",
   "execution_count": 7,
   "metadata": {},
   "outputs": [],
   "source": [
    "from turtle import *\n",
    "\n",
    "triTurt = Turtle()\n",
    "triTurt.pencolor('blue')\n",
    "triTurt.forward(100)\n",
    "triTurt.left(90)\n",
    "triTurt.forward(50)\n",
    "triTurt.left(150)\n",
    "triTurt.goto(0,0)\n",
    "triTurt.penup()"
   ]
  },
  {
   "cell_type": "markdown",
   "metadata": {
    "deletable": false,
    "editable": false,
    "run_control": {
     "frozen": true
    }
   },
   "source": [
    "__Q11:__ What method in the `Turtle` class will draw part of a circle?"
   ]
  },
  {
   "cell_type": "markdown",
   "metadata": {},
   "source": [
    "`turtle.circle( )` will draw part of a circle if the 2nd argument it receives is a number less than 360."
   ]
  },
  {
   "cell_type": "markdown",
   "metadata": {
    "deletable": false,
    "editable": false,
    "run_control": {
     "frozen": true
    }
   },
   "source": [
    "__Q12:__ What is the name and position of the argument to the method from __Q11__ that determines how much of the circle to draw?"
   ]
  },
  {
   "cell_type": "markdown",
   "metadata": {},
   "source": [
    "The 2nd argument that `turtle.circle( )` takes is called _extent_."
   ]
  },
  {
   "cell_type": "markdown",
   "metadata": {
    "deletable": false,
    "editable": false,
    "run_control": {
     "frozen": true
    }
   },
   "source": [
    "__Q13:__ Use the *Reset and Clear Output* option on the *Kernel* menu to close the Turtle Window. Write a program that make a line drawing of [a half moon](https://pixabay.com/photos/moon-celestial-body-half-moon-927215/). Be sure to import the turtle module into your program."
   ]
  },
  {
   "cell_type": "code",
   "execution_count": 8,
   "metadata": {},
   "outputs": [],
   "source": [
    "from turtle import *\n",
    "\n",
    "moonTurt = Turtle()\n",
    "moonTurt.pencolor('green')\n",
    "moonTurt.circle(100, 180)\n",
    "moonTurt.left(90)\n",
    "moonTurt.forward(200)"
   ]
  },
  {
   "cell_type": "markdown",
   "metadata": {
    "deletable": false,
    "editable": false,
    "run_control": {
     "frozen": true
    }
   },
   "source": [
    "__Q14:__ Since we all know that [the moon is made of green cheese](https://en.wikipedia.org/wiki/The_Moon_is_made_of_green_cheese) modify your program in __Q13__ so that your half moon is *filled* in green. Hint: You'll need to use some additional `Turtle` methods that control *filling* shapes."
   ]
  },
  {
   "cell_type": "code",
   "execution_count": 9,
   "metadata": {},
   "outputs": [],
   "source": [
    "from turtle import *\n",
    "\n",
    "moonTurt = Turtle()\n",
    "moonTurt.pencolor('green')\n",
    "moonTurt.fillcolor('green')\n",
    "moonTurt.begin_fill()\n",
    "moonTurt.circle(100, 180)\n",
    "moonTurt.left(90)\n",
    "moonTurt.forward(200)\n",
    "moonTurt.end_fill()"
   ]
  },
  {
   "cell_type": "markdown",
   "metadata": {
    "deletable": false,
    "editable": false,
    "run_control": {
     "frozen": true
    }
   },
   "source": [
    "__Q15:__ Use the *Reset and Clear Output* option on the *Kernel* menu to close the Turtle Window.  Write a program that draws a picture using turtle graphics. Be sure to import the turtle module into your program."
   ]
  },
  {
   "cell_type": "code",
   "execution_count": 10,
   "metadata": {},
   "outputs": [],
   "source": [
    "from turtle import *\n",
    "\n",
    "sqTurt = Turtle()\n",
    "\n",
    "sqTurt.pencolor('red')\n",
    "sqTurt.fillcolor('red')\n",
    "sqTurt.begin_fill()\n",
    "sqTurt.forward(25)\n",
    "sqTurt.left(90)\n",
    "sqTurt.forward(25)\n",
    "sqTurt.left(90)\n",
    "sqTurt.forward(25)\n",
    "sqTurt.left(90)\n",
    "sqTurt.forward(25)\n",
    "sqTurt.end_fill()\n",
    "sqTurt.penup()\n",
    "sqTurt.left(90)\n",
    "\n",
    "sqTurt.forward(25)\n",
    "\n",
    "sqTurt.pencolor('yellow')\n",
    "sqTurt.fillcolor('yellow')\n",
    "sqTurt.pendown()\n",
    "sqTurt.begin_fill()\n",
    "sqTurt.forward(25)\n",
    "sqTurt.left(90)\n",
    "sqTurt.forward(25)\n",
    "sqTurt.left(90)\n",
    "sqTurt.forward(25)\n",
    "sqTurt.left(90)\n",
    "sqTurt.forward(25)\n",
    "sqTurt.end_fill()\n",
    "sqTurt.penup()\n",
    "sqTurt.left(90)\n",
    "\n",
    "sqTurt.forward(25)\n",
    "\n",
    "sqTurt.pencolor('red')\n",
    "sqTurt.fillcolor('red')\n",
    "sqTurt.pendown()\n",
    "sqTurt.begin_fill()\n",
    "sqTurt.forward(25)\n",
    "sqTurt.left(90)\n",
    "sqTurt.forward(25)\n",
    "sqTurt.left(90)\n",
    "sqTurt.forward(25)\n",
    "sqTurt.left(90)\n",
    "sqTurt.forward(25)\n",
    "sqTurt.end_fill()\n",
    "sqTurt.penup()\n",
    "sqTurt.left(90)\n",
    "\n",
    "sqTurt.goto(0, -25)\n",
    "\n",
    "sqTurt.pencolor('yellow')\n",
    "sqTurt.fillcolor('yellow')\n",
    "sqTurt.pendown()\n",
    "sqTurt.begin_fill()\n",
    "sqTurt.forward(25)\n",
    "sqTurt.left(90)\n",
    "sqTurt.forward(25)\n",
    "sqTurt.left(90)\n",
    "sqTurt.forward(25)\n",
    "sqTurt.left(90)\n",
    "sqTurt.forward(25)\n",
    "sqTurt.end_fill()\n",
    "sqTurt.penup()\n",
    "sqTurt.left(90)\n",
    "\n",
    "sqTurt.forward(25)\n",
    "\n",
    "sqTurt.pencolor('red')\n",
    "sqTurt.fillcolor('red')\n",
    "sqTurt.pendown()\n",
    "sqTurt.begin_fill()\n",
    "sqTurt.forward(25)\n",
    "sqTurt.left(90)\n",
    "sqTurt.forward(25)\n",
    "sqTurt.left(90)\n",
    "sqTurt.forward(25)\n",
    "sqTurt.left(90)\n",
    "sqTurt.forward(25)\n",
    "sqTurt.end_fill()\n",
    "sqTurt.penup()\n",
    "sqTurt.left(90)\n",
    "\n",
    "sqTurt.forward(25)\n",
    "\n",
    "sqTurt.pencolor('yellow')\n",
    "sqTurt.fillcolor('yellow')\n",
    "sqTurt.pendown()\n",
    "sqTurt.begin_fill()\n",
    "sqTurt.forward(25)\n",
    "sqTurt.left(90)\n",
    "sqTurt.forward(25)\n",
    "sqTurt.left(90)\n",
    "sqTurt.forward(25)\n",
    "sqTurt.left(90)\n",
    "sqTurt.forward(25)\n",
    "sqTurt.end_fill()\n",
    "sqTurt.penup()\n",
    "sqTurt.left(90)\n",
    "\n",
    "sqTurt.goto(0, -50)\n",
    "\n",
    "sqTurt.pencolor('red')\n",
    "sqTurt.fillcolor('red')\n",
    "sqTurt.pendown()\n",
    "sqTurt.begin_fill()\n",
    "sqTurt.forward(25)\n",
    "sqTurt.left(90)\n",
    "sqTurt.forward(25)\n",
    "sqTurt.left(90)\n",
    "sqTurt.forward(25)\n",
    "sqTurt.left(90)\n",
    "sqTurt.forward(25)\n",
    "sqTurt.end_fill()\n",
    "sqTurt.penup()\n",
    "sqTurt.left(90)\n",
    "\n",
    "sqTurt.forward(25)\n",
    "\n",
    "sqTurt.pencolor('yellow')\n",
    "sqTurt.fillcolor('yellow')\n",
    "sqTurt.pendown()\n",
    "sqTurt.begin_fill()\n",
    "sqTurt.forward(25)\n",
    "sqTurt.left(90)\n",
    "sqTurt.forward(25)\n",
    "sqTurt.left(90)\n",
    "sqTurt.forward(25)\n",
    "sqTurt.left(90)\n",
    "sqTurt.forward(25)\n",
    "sqTurt.end_fill()\n",
    "sqTurt.penup()\n",
    "sqTurt.left(90)\n",
    "\n",
    "sqTurt.forward(25)\n",
    "\n",
    "sqTurt.pencolor('red')\n",
    "sqTurt.fillcolor('red')\n",
    "sqTurt.pendown()\n",
    "sqTurt.begin_fill()\n",
    "sqTurt.forward(25)\n",
    "sqTurt.left(90)\n",
    "sqTurt.forward(25)\n",
    "sqTurt.left(90)\n",
    "sqTurt.forward(25)\n",
    "sqTurt.left(90)\n",
    "sqTurt.forward(25)\n",
    "sqTurt.end_fill()\n",
    "sqTurt.penup()\n",
    "sqTurt.left(90)\n"
   ]
  },
  {
   "cell_type": "markdown",
   "metadata": {
    "deletable": false,
    "editable": false,
    "run_control": {
     "frozen": true
    }
   },
   "source": [
    "If the length and inefficiency of the code above bothers you, then you are ready for Class08!"
   ]
  },
  {
   "cell_type": "markdown",
   "metadata": {
    "deletable": false,
    "editable": false,
    "run_control": {
     "frozen": true
    }
   },
   "source": [
    "![Stop sign](stop.png) End of Class 06 material."
   ]
  },
  {
   "cell_type": "markdown",
   "metadata": {
    "deletable": false,
    "editable": false,
    "run_control": {
     "frozen": true
    }
   },
   "source": [
    "### Another Module and another Object"
   ]
  },
  {
   "cell_type": "markdown",
   "metadata": {
    "deletable": false,
    "editable": false,
    "run_control": {
     "frozen": true
    }
   },
   "source": [
    "Included in the folder for this class is the file `bank.py`. This file contains a module named `bank` that defines a class named `Account`.  In the exercises below you will learn more about Python objects by creating and using `Account` objects."
   ]
  },
  {
   "cell_type": "markdown",
   "metadata": {
    "deletable": false,
    "editable": false,
    "run_control": {
     "frozen": true
    }
   },
   "source": [
    "__Q16:__ Write a statement that imports the `bank` module."
   ]
  },
  {
   "cell_type": "code",
   "execution_count": 11,
   "metadata": {},
   "outputs": [],
   "source": [
    "from bank import *"
   ]
  },
  {
   "cell_type": "markdown",
   "metadata": {
    "deletable": false,
    "editable": false,
    "run_control": {
     "frozen": true
    }
   },
   "source": [
    "#### Constructors and Initialization"
   ]
  },
  {
   "cell_type": "markdown",
   "metadata": {
    "deletable": false,
    "editable": false,
    "run_control": {
     "frozen": true
    }
   },
   "source": [
    "When we created new `Turtle` objects we used a statement like: `anh=turtle.Turtle()` to invoke the constructor and initialize the state of the new `Turtle` object.  Because every `Turtle` is exactly the same to begin with, the constructor does not need any additional information in order to initialize the state. In more CS terms, the constructor didn't require any *arguments*, thus the `()` after `turtle.Turtle` are empty.\n",
    "\n",
    "The state of an `Account` object includes:\n",
    "- `name` : the name of the account holder.\n",
    "- `account_number`: a unique numeric identifier for the account.\n",
    "- `balance` : the amount of money in the account.\n",
    "\n",
    "Unlike `Turtle` objects which are all initially the same, each `Account` object will need a different `name` and a different `account_number`. To accomplish this the constructor for `Account` objects accepts arguments that provide the values indicating the name and account number.  So the constructor would be described as: \n",
    "\n",
    "- `Account(name, number)` : construct new `Account` with the name and account number.\n",
    "\n",
    "Thus, to create a new `Account` you will use a statement like: \n",
    "\n",
    "- `savings=bank.Account('Grant', 1234)`.  \n",
    "\n",
    "The arguments `'Grant'` and `1234` provide the information that the `Account` constructor needs to initialize the object. If you think about it, this really is no different than passing arguments to any other function. I.e. It is just like providing the argument `100` in `meg.forward(100)` or the `'Hello World!'` argument in `print('Hello World!')` provide information to the `forward` and `print` functions about what they are to do.\n",
    "\n",
    "It is also important to note that the `Account` constructor sets the initial balance of every account to be 0."
   ]
  },
  {
   "cell_type": "markdown",
   "metadata": {
    "deletable": false,
    "editable": false,
    "run_control": {
     "frozen": true
    }
   },
   "source": [
    "__Q17:__ Write a statement that creates a new `Account` for yourself with the account number `98765`."
   ]
  },
  {
   "cell_type": "code",
   "execution_count": null,
   "metadata": {},
   "outputs": [],
   "source": [
    "new_acc = Account(\"Lev\", 98765)"
   ]
  },
  {
   "cell_type": "markdown",
   "metadata": {
    "deletable": false,
    "editable": false,
    "run_control": {
     "frozen": true
    }
   },
   "source": [
    "__Q18:__ Draw an object state diagram for the object you created in __Q17__ and include it in the markdown cell below."
   ]
  },
  {
   "cell_type": "markdown",
   "metadata": {},
   "source": [
    "Account - new_acc\n",
    "* name --> \"Lev\"\n",
    "* number --> 4321"
   ]
  },
  {
   "cell_type": "markdown",
   "metadata": {},
   "source": [
    "All `Account` objects have the following methods:\n",
    "- `get_name()` : returns the name of the account holder.\n",
    "- `get_number()` : returns the account number.\n",
    "- `get_balance()` : returns the current balance of the account.\n",
    "- `deposit(amount)` : deposit the `amount` into the account.\n",
    "- `withdraw(amount)` : withdraw the `amount` from the account."
   ]
  },
  {
   "cell_type": "markdown",
   "metadata": {
    "deletable": false,
    "editable": false,
    "run_control": {
     "frozen": true
    }
   },
   "source": [
    "__Q19:__ Write statements below that make a deposit into the `Account` you created in __Q18__ and then prints out the current balance of the account."
   ]
  },
  {
   "cell_type": "code",
   "execution_count": 13,
   "metadata": {},
   "outputs": [
    {
     "name": "stdout",
     "output_type": "stream",
     "text": [
      "$1000000\n"
     ]
    }
   ],
   "source": [
    "new_acc.deposit(1000000)\n",
    "print(\"$\" + str(new_acc.get_balance()))"
   ]
  },
  {
   "cell_type": "markdown",
   "metadata": {
    "deletable": false,
    "editable": false,
    "run_control": {
     "frozen": true
    }
   },
   "source": [
    "__Q20:__ What happens when you run the code cell from __Q19__ multiple times?"
   ]
  },
  {
   "cell_type": "markdown",
   "metadata": {},
   "source": [
    "The Q19 code cell adds $1 million to newAcc each time it is run."
   ]
  },
  {
   "cell_type": "markdown",
   "metadata": {
    "deletable": false,
    "editable": false,
    "run_control": {
     "frozen": true
    }
   },
   "source": [
    "__Q21:__ Write statements below that make two different withdraws from the `Account` you created in __Q18__ and then prints out the current balance of the account."
   ]
  },
  {
   "cell_type": "code",
   "execution_count": 14,
   "metadata": {},
   "outputs": [
    {
     "name": "stdout",
     "output_type": "stream",
     "text": [
      "$949995\n"
     ]
    }
   ],
   "source": [
    "new_acc.withdraw(50000)\n",
    "new_acc.withdraw(5)\n",
    "print(\"$\" + str(new_acc.get_balance()))"
   ]
  },
  {
   "cell_type": "markdown",
   "metadata": {
    "deletable": false,
    "editable": false,
    "run_control": {
     "frozen": true
    }
   },
   "source": [
    "__Q22:__ Write statements below that create another `Account` object."
   ]
  },
  {
   "cell_type": "code",
   "execution_count": 15,
   "metadata": {},
   "outputs": [],
   "source": [
    "acc_new = Account(\"Famine Relief\", 4321)"
   ]
  },
  {
   "cell_type": "markdown",
   "metadata": {
    "deletable": false,
    "editable": false,
    "run_control": {
     "frozen": true
    }
   },
   "source": [
    "__Q21:__ Bank customers often transfer money between their accounts.  Write a program below that prompts the user for an amount and then transfers that amount from the account created in __Q19__ to the account in __Q22__."
   ]
  },
  {
   "cell_type": "code",
   "execution_count": 16,
   "metadata": {},
   "outputs": [
    {
     "name": "stdout",
     "output_type": "stream",
     "text": [
      "Lev, please help end hunger.\n",
      "Please enter an amount to donate: 500000\n",
      "Thank you!\n",
      "Lev's account now has $449995.0 remaining.\n",
      "Famine Relief's account now has $500000.0 in it.\n"
     ]
    }
   ],
   "source": [
    "print(new_acc.get_name() + \", please help end hunger.\")\n",
    "donation = float(input(\"Please enter an amount to donate: \"))\n",
    "new_acc.withdraw(donation)\n",
    "acc_new.deposit(donation)\n",
    "print(\"Thank you!\")\n",
    "print(new_acc.get_name() + \"'s account now has $\" + str(new_acc.get_balance()) + \" remaining.\")\n",
    "print(acc_new.get_name() + \"'s account now has $\" + str(acc_new.get_balance()) + \" in it.\")"
   ]
  },
  {
   "cell_type": "markdown",
   "metadata": {
    "deletable": false,
    "editable": false,
    "run_control": {
     "frozen": true
    }
   },
   "source": [
    "__Q22:__ There are also ways in which accounts might be configured to make automatic transfers.  For example, to support someone wishing to build up savings a bank might offer a service like automatically transferring 1/2 of a customer's checking account balance to their savings account at the end of each month.  \n",
    "\n",
    "Write a program below that transfers 1/2 of the current balance from the account created in __Q19__ to the account in __Q22__."
   ]
  },
  {
   "cell_type": "code",
   "execution_count": 17,
   "metadata": {},
   "outputs": [
    {
     "name": "stdout",
     "output_type": "stream",
     "text": [
      "Okay, Lev, now we really need funds.\n",
      "We know you're nice, so we're going to take half your money.\n",
      "Thank you!\n",
      "Lev's account now has $224997.5 remaining.\n",
      "Famine Relief's account now has $724997.5 in it.\n"
     ]
    }
   ],
   "source": [
    "print(\"Okay, \" + new_acc.get_name() + \", now we really need funds.\")\n",
    "print(\"We know you're nice, so we're going to take half your money.\")\n",
    "donation = new_acc.get_balance() / 2\n",
    "new_acc.withdraw(donation)\n",
    "acc_new.deposit(donation)\n",
    "print(\"Thank you!\")\n",
    "print(new_acc.get_name() + \"'s account now has $\" + str(new_acc.get_balance()) + \" remaining.\")\n",
    "print(acc_new.get_name() + \"'s account now has $\" + str(acc_new.get_balance()) + \" in it.\")"
   ]
  },
  {
   "cell_type": "markdown",
   "metadata": {
    "deletable": false,
    "editable": false,
    "run_control": {
     "frozen": true
    }
   },
   "source": [
    "### Fruitful and Fruitless (aka *void*) Methods/Functions"
   ]
  },
  {
   "cell_type": "markdown",
   "metadata": {
    "deletable": false,
    "editable": false,
    "run_control": {
     "frozen": true
    }
   },
   "source": [
    "__Q23:__ Which of the methods in `Account` are *fruitful*?"
   ]
  },
  {
   "cell_type": "markdown",
   "metadata": {},
   "source": [
    "* `get_name( )`\n",
    "* `get_number( )`\n",
    "* `get_balance( )`"
   ]
  },
  {
   "cell_type": "markdown",
   "metadata": {
    "deletable": false,
    "editable": false,
    "run_control": {
     "frozen": true
    }
   },
   "source": [
    "__Q24:__ Which of the methods in `Account` are *fruitless* (or *void*)?"
   ]
  },
  {
   "cell_type": "markdown",
   "metadata": {},
   "source": [
    "* `deposit( )`\n",
    "* `withdraw( )`"
   ]
  },
  {
   "cell_type": "markdown",
   "metadata": {
    "deletable": false,
    "editable": false,
    "run_control": {
     "frozen": true
    }
   },
   "source": [
    "As we know *fruitful functions* return values that we can save in a variable and/or use in other computations.  For example, as you did with `get_balance()` in __Q21__ and __Q22__ above.  However, *fruitless functions* do not return values and thus have no results that can be used in further computations.  Sometimes however, programmers make mistakes and assign a fruitless function to a variable."
   ]
  },
  {
   "cell_type": "markdown",
   "metadata": {
    "deletable": false,
    "editable": false,
    "run_control": {
     "frozen": true
    }
   },
   "source": [
    "__Q25:__ What value is assigned to the variable `hummm` by the following statements? "
   ]
  },
  {
   "cell_type": "code",
   "execution_count": 18,
   "metadata": {
    "scrolled": true
   },
   "outputs": [
    {
     "name": "stdout",
     "output_type": "stream",
     "text": [
      "None\n"
     ]
    }
   ],
   "source": [
    "my_acct=Account(\"Me\", 3456)\n",
    "hummm=my_acct.deposit(100)\n",
    "print(hummm)"
   ]
  },
  {
   "cell_type": "markdown",
   "metadata": {},
   "source": [
    "The value `None` is assigned to the variable `hummm` if you use the `deposit( )` method to assign it a value.  `None` is a special value that Python uses when there is no meaningful value associated with a variable."
   ]
  },
  {
   "cell_type": "markdown",
   "metadata": {
    "deletable": false,
    "editable": false,
    "run_control": {
     "frozen": true
    }
   },
   "source": [
    "__Q26__: What happens if you attempt to use `hummm` in another computation? E.g. add 10 to it? Or multiply it by 2?  Which of the three types of errors (*syntax*, *runtime*, *semantic*) is that?"
   ]
  },
  {
   "cell_type": "code",
   "execution_count": 19,
   "metadata": {},
   "outputs": [
    {
     "ename": "TypeError",
     "evalue": "unsupported operand type(s) for +: 'NoneType' and 'int'",
     "output_type": "error",
     "traceback": [
      "\u001b[0;31m---------------------------------------------------------------------------\u001b[0m",
      "\u001b[0;31mTypeError\u001b[0m                                 Traceback (most recent call last)",
      "\u001b[0;32m<ipython-input-19-7c84c211b69b>\u001b[0m in \u001b[0;36m<module>\u001b[0;34m\u001b[0m\n\u001b[0;32m----> 1\u001b[0;31m \u001b[0mhummm\u001b[0m \u001b[0;34m=\u001b[0m \u001b[0mhummm\u001b[0m \u001b[0;34m+\u001b[0m \u001b[0;36m10\u001b[0m\u001b[0;34m\u001b[0m\u001b[0;34m\u001b[0m\u001b[0m\n\u001b[0m\u001b[1;32m      2\u001b[0m \u001b[0mprint\u001b[0m\u001b[0;34m(\u001b[0m\u001b[0mhummm\u001b[0m\u001b[0;34m)\u001b[0m\u001b[0;34m\u001b[0m\u001b[0;34m\u001b[0m\u001b[0m\n",
      "\u001b[0;31mTypeError\u001b[0m: unsupported operand type(s) for +: 'NoneType' and 'int'"
     ]
    }
   ],
   "source": [
    "hummm = hummm + 10\n",
    "print(hummm)"
   ]
  },
  {
   "cell_type": "markdown",
   "metadata": {},
   "source": [
    "Since `hummm` has no value (i.e. `None`), it cannot be added to an integer or anything else."
   ]
  },
  {
   "cell_type": "markdown",
   "metadata": {
    "deletable": false,
    "editable": false
   },
   "source": [
    "__Q27:__ Run the code in the code cell below a few times to understand what it does.  Then, in the code cell below that write a program that prints the distance between hieu and amy."
   ]
  },
  {
   "cell_type": "code",
   "execution_count": 21,
   "metadata": {
    "deletable": false,
    "editable": false
   },
   "outputs": [],
   "source": [
    "import turtle\n",
    "import random\n",
    "\n",
    "hieu=turtle.Turtle()\n",
    "amy=turtle.Turtle()\n",
    "\n",
    "hieu.pencolor('green')\n",
    "hieu.forward(random.randint(50,150))\n",
    "hieu.right(random.randint(30,120))\n",
    "hieu.forward(random.randint(50,150))\n",
    "\n",
    "amy.pencolor('yellow')\n",
    "amy.left(90)\n",
    "amy.forward(random.randint(50,150))\n",
    "amy.left(random.randint(30,120))\n",
    "amy.forward(random.randint(50,150))"
   ]
  },
  {
   "cell_type": "code",
   "execution_count": 22,
   "metadata": {},
   "outputs": [
    {
     "name": "stdout",
     "output_type": "stream",
     "text": [
      "The distance between turtles is 293.7885952459318.\n"
     ]
    }
   ],
   "source": [
    "dist_h_a = hieu.distance(amy.xcor(), amy.ycor())\n",
    "print(\"The distance between turtles is \" + str(dist_h_a) + \".\")"
   ]
  }
 ],
 "metadata": {
  "kernelspec": {
   "display_name": "Python 3",
   "language": "python",
   "name": "python3"
  },
  "language_info": {
   "codemirror_mode": {
    "name": "ipython",
    "version": 3
   },
   "file_extension": ".py",
   "mimetype": "text/x-python",
   "name": "python",
   "nbconvert_exporter": "python",
   "pygments_lexer": "ipython3",
   "version": "3.7.3"
  }
 },
 "nbformat": 4,
 "nbformat_minor": 2
}
