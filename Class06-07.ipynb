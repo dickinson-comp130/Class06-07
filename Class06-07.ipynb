{
 "cells": [
  {
   "cell_type": "markdown",
   "metadata": {
    "deletable": false,
    "editable": false,
    "run_control": {
     "frozen": true
    }
   },
   "source": [
    "# Class 06-07 - More Functions, Modules and Objects  \n",
    "**COMP130 - Introduction to Computing**  \n",
    "**Dickinson College**  \n",
    "\n",
    "### Names:"
   ]
  },
  {
   "cell_type": "markdown",
   "metadata": {},
   "source": []
  },
  {
   "cell_type": "markdown",
   "metadata": {
    "deletable": false,
    "editable": false,
    "run_control": {
     "frozen": true
    }
   },
   "source": [
    "### Objects"
   ]
  },
  {
   "cell_type": "markdown",
   "metadata": {
    "deletable": false,
    "editable": false,
    "run_control": {
     "frozen": true
    }
   },
   "source": [
    "__Q1:__ An *object* is made up of what two things?  Briefly define each."
   ]
  },
  {
   "cell_type": "markdown",
   "metadata": {},
   "source": []
  },
  {
   "cell_type": "markdown",
   "metadata": {
    "deletable": false,
    "editable": false,
    "run_control": {
     "frozen": true
    }
   },
   "source": [
    "__Q2:__ What is a *constructor*?  What is its job?"
   ]
  },
  {
   "cell_type": "markdown",
   "metadata": {},
   "source": []
  },
  {
   "cell_type": "markdown",
   "metadata": {
    "deletable": false,
    "editable": false,
    "run_control": {
     "frozen": true
    }
   },
   "source": [
    "__Q3:__ Imagine some of the code behind Netflix.  What *state* might an object representing a movie need to contain?"
   ]
  },
  {
   "cell_type": "markdown",
   "metadata": {},
   "source": []
  },
  {
   "cell_type": "markdown",
   "metadata": {
    "deletable": false,
    "editable": false,
    "run_control": {
     "frozen": true
    }
   },
   "source": [
    "__Q4:__ What *methods* might an object representing a movie need to contain?"
   ]
  },
  {
   "cell_type": "markdown",
   "metadata": {},
   "source": []
  },
  {
   "cell_type": "markdown",
   "metadata": {
    "deletable": false,
    "editable": false,
    "run_control": {
     "frozen": true
    }
   },
   "source": [
    "__Q5:__ For one method in __Q4__ explain how it would use or modify the state of a movie object."
   ]
  },
  {
   "cell_type": "markdown",
   "metadata": {},
   "source": []
  },
  {
   "cell_type": "markdown",
   "metadata": {
    "deletable": false,
    "editable": false,
    "run_control": {
     "frozen": true
    }
   },
   "source": [
    "### `Turtle` Objects"
   ]
  },
  {
   "cell_type": "markdown",
   "metadata": {
    "deletable": false,
    "editable": false,
    "run_control": {
     "frozen": true
    }
   },
   "source": [
    "The documentation for the `turtle` module on the course home page and the `TurtleExample.ipynb` notebook from class (in the same folder as this notebook) will be useful in answering some of the following questions."
   ]
  },
  {
   "cell_type": "markdown",
   "metadata": {
    "deletable": false,
    "editable": false,
    "run_control": {
     "frozen": true
    }
   },
   "source": [
    "__Q6:__ Run the following code cell and then draw an *object state diagram* representing the state of the `Turtle` referred to by `meg` when the program has finished. Take a picture of your object state diagram and put it into the markdown field below."
   ]
  },
  {
   "cell_type": "code",
   "execution_count": null,
   "metadata": {
    "deletable": false,
    "editable": false
   },
   "outputs": [],
   "source": [
    "import turtle\n",
    "meg=turtle.Turtle()"
   ]
  },
  {
   "cell_type": "markdown",
   "metadata": {
    "deletable": false,
    "editable": false,
    "run_control": {
     "frozen": true
    }
   },
   "source": [
    "__Q7:__ Run the following code cell. Update your *object state diagram* to match `meg`s new state.  Take a picture of your object state diagram and put it into the markdown field below."
   ]
  },
  {
   "cell_type": "code",
   "execution_count": null,
   "metadata": {
    "deletable": false,
    "editable": false
   },
   "outputs": [],
   "source": [
    "meg.pencolor('blue')\n",
    "meg.forward(50)\n",
    "meg.left(90)\n",
    "meg.forward(100)\n",
    "meg.penup()"
   ]
  },
  {
   "cell_type": "markdown",
   "metadata": {},
   "source": []
  },
  {
   "cell_type": "markdown",
   "metadata": {
    "deletable": false,
    "editable": false,
    "run_control": {
     "frozen": true
    }
   },
   "source": [
    "__Q8:__ Run the code cell below, update your state diagram to match `meg`'s new state.  Take a picture of your updated object state diagram and put it into the markdown field below.  Hint: Don't compute the state by hand... add a code cell."
   ]
  },
  {
   "cell_type": "code",
   "execution_count": null,
   "metadata": {
    "deletable": false,
    "editable": false
   },
   "outputs": [],
   "source": [
    "meg.right(38)\n",
    "meg.forward(82)"
   ]
  },
  {
   "cell_type": "markdown",
   "metadata": {},
   "source": []
  },
  {
   "cell_type": "markdown",
   "metadata": {
    "deletable": false,
    "editable": false,
    "run_control": {
     "frozen": true
    }
   },
   "source": [
    "__Q9:__ Use the *Reset and Clear Output* option on the *Kernel* menu to close the Turtle Window. Write a program that creates a `Turtle` and causes it to draw a rectangle that is not a square.  Be sure to import the `turtle` module into your program."
   ]
  },
  {
   "cell_type": "code",
   "execution_count": null,
   "metadata": {},
   "outputs": [],
   "source": []
  },
  {
   "cell_type": "markdown",
   "metadata": {
    "deletable": false,
    "editable": false,
    "run_control": {
     "frozen": true
    }
   },
   "source": [
    "__Q10:__ Use the *Reset and Clear Output* option on the *Kernel* menu to close the Turtle Window. Write a program that uses the `goto` method in the `Turtle` class to draw a right triangle. Be sure to import the turtle module into your program."
   ]
  },
  {
   "cell_type": "code",
   "execution_count": null,
   "metadata": {},
   "outputs": [],
   "source": []
  },
  {
   "cell_type": "markdown",
   "metadata": {
    "deletable": false,
    "editable": false,
    "run_control": {
     "frozen": true
    }
   },
   "source": [
    "__Q11:__ What method in the `Turtle` class will draw part of a circle?"
   ]
  },
  {
   "cell_type": "markdown",
   "metadata": {},
   "source": []
  },
  {
   "cell_type": "markdown",
   "metadata": {
    "deletable": false,
    "editable": false,
    "run_control": {
     "frozen": true
    }
   },
   "source": [
    "__Q12:__ What is the name and position of the argument to the method from __Q9__ that determines how much of the circle to draw?"
   ]
  },
  {
   "cell_type": "markdown",
   "metadata": {},
   "source": []
  },
  {
   "cell_type": "markdown",
   "metadata": {
    "deletable": false,
    "editable": false,
    "run_control": {
     "frozen": true
    }
   },
   "source": [
    "__Q13:__ Use the *Reset and Clear Output* option on the *Kernel* menu to close the Turtle Window. Write a program that make a line drawing of [a half moon](https://pixabay.com/photos/moon-celestial-body-half-moon-927215/). Be sure to import the turtle module into your program."
   ]
  },
  {
   "cell_type": "code",
   "execution_count": null,
   "metadata": {},
   "outputs": [],
   "source": []
  },
  {
   "cell_type": "markdown",
   "metadata": {
    "deletable": false,
    "editable": false,
    "run_control": {
     "frozen": true
    }
   },
   "source": [
    "__Q14:__ Since we all know that [the moon is made of green cheese](https://en.wikipedia.org/wiki/The_Moon_is_made_of_green_cheese) modify your program in __Q13__ so that your half moon is *filled* in green. Hint: You'll need to use some additional `Turtle` methods that control *filling* shapes."
   ]
  },
  {
   "cell_type": "markdown",
   "metadata": {
    "deletable": false,
    "editable": false,
    "run_control": {
     "frozen": true
    }
   },
   "source": [
    "__Q15:__ Use the *Reset and Clear Output* option on the *Kernel* menu to close the Turtle Window.  Write a program that draws a picture using turtle graphics. Be sure to import the turtle module into your program."
   ]
  },
  {
   "cell_type": "code",
   "execution_count": null,
   "metadata": {},
   "outputs": [],
   "source": []
  },
  {
   "cell_type": "markdown",
   "metadata": {
    "deletable": false,
    "editable": false,
    "run_control": {
     "frozen": true
    }
   },
   "source": [
    "![Stop sign](stop.png) End of Class 06 material."
   ]
  },
  {
   "cell_type": "markdown",
   "metadata": {
    "deletable": false,
    "editable": false,
    "run_control": {
     "frozen": true
    }
   },
   "source": [
    "### Another Module and another Object"
   ]
  },
  {
   "cell_type": "markdown",
   "metadata": {
    "deletable": false,
    "editable": false,
    "run_control": {
     "frozen": true
    }
   },
   "source": [
    "Included in the folder for this class is the file `bank.py`. This file contains a module named `bank` that defines a class named `Account`.  In the exercises below you will learn more about Python objects by creating and using `Account` objects."
   ]
  },
  {
   "cell_type": "markdown",
   "metadata": {
    "deletable": false,
    "editable": false,
    "run_control": {
     "frozen": true
    }
   },
   "source": [
    "__Q16:__ Write a statement that imports the `bank` module."
   ]
  },
  {
   "cell_type": "code",
   "execution_count": null,
   "metadata": {},
   "outputs": [],
   "source": []
  },
  {
   "cell_type": "markdown",
   "metadata": {
    "deletable": false,
    "editable": false,
    "run_control": {
     "frozen": true
    }
   },
   "source": [
    "#### Constructors and Initialization"
   ]
  },
  {
   "cell_type": "markdown",
   "metadata": {
    "deletable": false,
    "editable": false,
    "run_control": {
     "frozen": true
    }
   },
   "source": [
    "When we created new `Turtle` objects we used a statement like: `anh=turtle.Turtle()` to invoke the constructor and initialize the state of the new `Turtle` object.  Because every `Turtle` is exactly the same to begin with, the constructor does not need any additional information in order to initialize the state. In more CS terms, the constructor didn't require any *arguments*, thus the `()` after `turtle.Turtle` are empty.\n",
    "\n",
    "The state of an `Account` object includes:\n",
    "- `name` : the name of the account holder.\n",
    "- `account_number`: a unique numeric identifier for the account.\n",
    "- `balance` : the amount of money in the account.\n",
    "\n",
    "Unlike `Turtle` objects which are all initially the same, each `Account` object will need a different `name` and a different `account_number`. To accomplish this the constructor for `Account` objects accepts arguments that provide the values indicating the name and account number.  So the constructor would be described as: \n",
    "\n",
    "- `Account(name, number)` : construct new `Account` with the name and account number.\n",
    "\n",
    "Thus, to create a new `Account` you will use a statement like: \n",
    "\n",
    "- `savings=bank.Account('Grant', 1234)`.  \n",
    "\n",
    "The arguments `'Grant'` and `1234` provide the information that the `Account` constructor needs to initialize the object. If you think about it, this really is no different than passing arguments to any other function. I.e. It is just like providing the argument `100` in `meg.forward(100)` or the `'Hello World!'` argument in `print('Hello World!')` provide information to the `forward` and `print` functions about what they are to do.\n",
    "\n",
    "It is also important to note that the `Account` constructor sets the initial balance of every account to be 0."
   ]
  },
  {
   "cell_type": "markdown",
   "metadata": {
    "deletable": false,
    "editable": false,
    "run_control": {
     "frozen": true
    }
   },
   "source": [
    "__Q17:__ Write a statement that creates a new `Account` for yourself with the account number `98765`."
   ]
  },
  {
   "cell_type": "code",
   "execution_count": null,
   "metadata": {},
   "outputs": [],
   "source": []
  },
  {
   "cell_type": "markdown",
   "metadata": {
    "deletable": false,
    "editable": false,
    "run_control": {
     "frozen": true
    }
   },
   "source": [
    "__Q18:__ Draw an object state diagram for the object you created in __Q17__ and include it in the markdown cell below."
   ]
  },
  {
   "cell_type": "markdown",
   "metadata": {},
   "source": []
  },
  {
   "cell_type": "markdown",
   "metadata": {},
   "source": [
    "All `Account` objects have the following methods:\n",
    "- `get_name()` : returns the name of the account holder.\n",
    "- `get_number()` : returns the account number.\n",
    "- `get_balance()` : returns the current balance of the account.\n",
    "- `deposit(amount)` : deposit the `amount` into the account.\n",
    "- `withdraw(amount)` : withdraw the `amount` from the account."
   ]
  },
  {
   "cell_type": "markdown",
   "metadata": {
    "deletable": false,
    "editable": false,
    "run_control": {
     "frozen": true
    }
   },
   "source": [
    "__Q19:__ Write statements below that make a deposit into the `Account` you created in __Q18__ and then prints out the current balance of the account."
   ]
  },
  {
   "cell_type": "code",
   "execution_count": null,
   "metadata": {},
   "outputs": [],
   "source": []
  },
  {
   "cell_type": "markdown",
   "metadata": {
    "deletable": false,
    "editable": false,
    "run_control": {
     "frozen": true
    }
   },
   "source": [
    "__Q20:__ What happens when you run the code cell from __Q19__ multiple times?"
   ]
  },
  {
   "cell_type": "markdown",
   "metadata": {},
   "source": []
  },
  {
   "cell_type": "markdown",
   "metadata": {
    "deletable": false,
    "editable": false,
    "run_control": {
     "frozen": true
    }
   },
   "source": [
    "__Q21:__ Write statements below that make two different withdraws from the `Account` you created in __Q18__ and then prints out the current balance of the account."
   ]
  },
  {
   "cell_type": "code",
   "execution_count": null,
   "metadata": {},
   "outputs": [],
   "source": []
  },
  {
   "cell_type": "markdown",
   "metadata": {
    "deletable": false,
    "editable": false,
    "run_control": {
     "frozen": true
    }
   },
   "source": [
    "__Q22:__ Write statements below that create another `Account` object."
   ]
  },
  {
   "cell_type": "code",
   "execution_count": null,
   "metadata": {},
   "outputs": [],
   "source": []
  },
  {
   "cell_type": "markdown",
   "metadata": {
    "deletable": false,
    "editable": false,
    "run_control": {
     "frozen": true
    }
   },
   "source": [
    "__Q21:__ Bank customers often transfer money between their accounts.  Write a program below that prompts the user for an amount and then transfers that amount from the account created in __Q19__ to the account in __Q22__."
   ]
  },
  {
   "cell_type": "code",
   "execution_count": null,
   "metadata": {},
   "outputs": [],
   "source": []
  },
  {
   "cell_type": "markdown",
   "metadata": {
    "deletable": false,
    "editable": false,
    "run_control": {
     "frozen": true
    }
   },
   "source": [
    "__Q22:__ There are also ways in which accounts might be configured to make automatic transfers.  For example, to support someone wishing to build up savings a bank might offer a service like automatically transferring 1/2 of a customer's checking account balance to their savings account at the end of each month.  \n",
    "\n",
    "Write a program below that transfers 1/2 of the current balance from the account created in __Q19__ to the account in __Q22__."
   ]
  },
  {
   "cell_type": "code",
   "execution_count": null,
   "metadata": {},
   "outputs": [],
   "source": []
  },
  {
   "cell_type": "markdown",
   "metadata": {
    "deletable": false,
    "editable": false,
    "run_control": {
     "frozen": true
    }
   },
   "source": [
    "### Fruitful and Fruitless (aka *void*) Methods/Functions"
   ]
  },
  {
   "cell_type": "markdown",
   "metadata": {
    "deletable": false,
    "editable": false,
    "run_control": {
     "frozen": true
    }
   },
   "source": [
    "__Q23:__ Which of the methods in `Account` are *fruitful*?"
   ]
  },
  {
   "cell_type": "code",
   "execution_count": null,
   "metadata": {},
   "outputs": [],
   "source": []
  },
  {
   "cell_type": "markdown",
   "metadata": {
    "deletable": false,
    "editable": false,
    "run_control": {
     "frozen": true
    }
   },
   "source": [
    "__Q24:__ Which of the methods in `Account` are *fruitless* (or *void*)?"
   ]
  },
  {
   "cell_type": "code",
   "execution_count": null,
   "metadata": {},
   "outputs": [],
   "source": []
  },
  {
   "cell_type": "markdown",
   "metadata": {
    "deletable": false,
    "editable": false,
    "run_control": {
     "frozen": true
    }
   },
   "source": [
    "As we know *fruitful functions* return values that we can save in a variable and/or use in other computations.  For example, as you did with `get_balance()` in __Q21__ and __Q22__ above.  However, *fruitless functions* do not return values and thus have no results that can be used in further computations.  Sometimes however, programmers make mistakes and assign a fruitless function to a variable."
   ]
  },
  {
   "cell_type": "markdown",
   "metadata": {
    "deletable": false,
    "editable": false,
    "run_control": {
     "frozen": true
    }
   },
   "source": [
    "__Q25:__ What value is assigned to the variable `hummm` by the following statements? "
   ]
  },
  {
   "cell_type": "code",
   "execution_count": null,
   "metadata": {
    "deletable": false,
    "editable": false
   },
   "outputs": [],
   "source": [
    "my_acct=Account(`Me`, 3456)\n",
    "hummm=my_account.deposit(100)"
   ]
  },
  {
   "cell_type": "markdown",
   "metadata": {
    "deletable": false,
    "editable": false,
    "run_control": {
     "frozen": true
    }
   },
   "source": [
    "__Q26__: What happens if you attempt to use `hummm` in another computation? E.g. add 10 to it? Or multiply it by 2?  Which of the three types of errors (*syntax*, *runtime*, *semantic*) is that?"
   ]
  },
  {
   "cell_type": "markdown",
   "metadata": {},
   "source": []
  },
  {
   "cell_type": "markdown",
   "metadata": {
    "deletable": false,
    "editable": false
   },
   "source": [
    "__Q27:__ Run the code in the code cell below a few times to understand what it does.  Then, in the code cell below that write a program that prints the distance between hieu and amy."
   ]
  },
  {
   "cell_type": "code",
   "execution_count": 3,
   "metadata": {
    "deletable": false,
    "editable": false
   },
   "outputs": [],
   "source": [
    "import turtle\n",
    "import random\n",
    "\n",
    "hieu=turtle.Turtle()\n",
    "amy=turtle.Turtle()\n",
    "\n",
    "hieu.pencolor('green')\n",
    "hieu.forward(random.randint(50,150))\n",
    "hieu.right(random.randint(30,120))\n",
    "hieu.forward(random.randint(50,150))\n",
    "\n",
    "amy.pencolor('yellow')\n",
    "amy.left(90)\n",
    "amy.forward(random.randint(50,150))\n",
    "amy.left(random.randint(30,120))\n",
    "amy.forward(random.randint(50,150))"
   ]
  }
 ],
 "metadata": {
  "kernelspec": {
   "display_name": "Python 3",
   "language": "python",
   "name": "python3"
  },
  "language_info": {
   "codemirror_mode": {
    "name": "ipython",
    "version": 3
   },
   "file_extension": ".py",
   "mimetype": "text/x-python",
   "name": "python",
   "nbconvert_exporter": "python",
   "pygments_lexer": "ipython3",
   "version": "3.7.3"
  }
 },
 "nbformat": 4,
 "nbformat_minor": 2
}
