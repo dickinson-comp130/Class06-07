{
 "cells": [
  {
   "cell_type": "markdown",
   "metadata": {
    "deletable": false,
    "editable": false,
    "run_control": {
     "frozen": true
    }
   },
   "source": [
    "# Class 06-07 - Turtle Example \n",
    "**COMP130 - Introduction to Computing**  \n",
    "**Dickinson College**  "
   ]
  },
  {
   "cell_type": "markdown",
   "metadata": {
    "deletable": false,
    "editable": false,
    "run_control": {
     "frozen": true
    }
   },
   "source": [
    "[Turtle graphics](https://en.wikipedia.org/wiki/Turtle_graphics) initially appeared in the [Logo programming language](https://en.wikipedia.org/wiki/Logo_(programming_language) as a fun and creative way to teach children to program. Turtle graphics are still a popular and fun way to introduce some programming concepts today. \n",
    "\n",
    "The idea is that simple instructions control the motion of a *turtle* that uses a pen to draw figures.\n",
    "\n",
    "![Turtle graphics animation](https://upload.wikimedia.org/wikipedia/commons/3/3d/Turtle-animation.gif)\n",
    "Animation by Cormullion and used under a [CC BY-SA 4.0](https://commons.wikimedia.org/w/index.php?curid=75114524)\n",
    "\n",
    "For our purposes a `Turtle` is an outstanding example of an *object*.  The code snippets below will be used in class to introduce the `Turtle` and connect it to the ideas of *objects* and *methods* and *internal object state*."
   ]
  },
  {
   "cell_type": "markdown",
   "metadata": {
    "deletable": false,
    "editable": false,
    "run_control": {
     "frozen": true
    }
   },
   "source": [
    "### Class 06: A `Turtle` Object"
   ]
  },
  {
   "cell_type": "markdown",
   "metadata": {
    "deletable": false,
    "editable": false,
    "run_control": {
     "frozen": true
    }
   },
   "source": [
    "Import the `turtle` package which defines the `Turtle` class."
   ]
  },
  {
   "cell_type": "code",
   "execution_count": 1,
   "metadata": {
    "deletable": false,
    "editable": false
   },
   "outputs": [],
   "source": [
    "import turtle"
   ]
  },
  {
   "cell_type": "markdown",
   "metadata": {
    "deletable": false,
    "editable": false,
    "run_control": {
     "frozen": true
    }
   },
   "source": [
    "Create a new `Turtle` object and use the variable `sue` to *refer* to it."
   ]
  },
  {
   "cell_type": "code",
   "execution_count": 2,
   "metadata": {
    "deletable": false,
    "editable": false
   },
   "outputs": [],
   "source": [
    "sue=turtle.Turtle()"
   ]
  },
  {
   "cell_type": "markdown",
   "metadata": {
    "deletable": false,
    "editable": false,
    "run_control": {
     "frozen": true
    }
   },
   "source": [
    "Invoke some *methods* on `sue` to change her state.  Note that these methods also have a visible effect on the screen that are a reflection of, but distinct from, her internal state."
   ]
  },
  {
   "cell_type": "code",
   "execution_count": 3,
   "metadata": {
    "deletable": false,
    "editable": false
   },
   "outputs": [],
   "source": [
    "sue.forward(50)\n",
    "sue.left(90)\n",
    "sue.forward(50)"
   ]
  },
  {
   "cell_type": "markdown",
   "metadata": {
    "deletable": false,
    "editable": false,
    "run_control": {
     "frozen": true
    }
   },
   "source": [
    "Invoke some more methods..."
   ]
  },
  {
   "cell_type": "code",
   "execution_count": 4,
   "metadata": {
    "deletable": false,
    "editable": false
   },
   "outputs": [],
   "source": [
    "sue.right(90)\n",
    "sue.pencolor('red')\n",
    "sue.forward(50)"
   ]
  },
  {
   "cell_type": "markdown",
   "metadata": {
    "deletable": false,
    "editable": false,
    "run_control": {
     "frozen": true
    }
   },
   "source": [
    "And a few more just for good measure..."
   ]
  },
  {
   "cell_type": "code",
   "execution_count": 5,
   "metadata": {
    "deletable": false,
    "editable": false
   },
   "outputs": [],
   "source": [
    "sue.penup()\n",
    "sue.right(90)\n",
    "sue.color('blue')\n",
    "sue.forward(50)"
   ]
  },
  {
   "cell_type": "markdown",
   "metadata": {
    "deletable": false,
    "editable": false,
    "run_control": {
     "frozen": true
    }
   },
   "source": [
    "And a few more, because... why not?"
   ]
  },
  {
   "cell_type": "code",
   "execution_count": 6,
   "metadata": {
    "deletable": false,
    "editable": false
   },
   "outputs": [],
   "source": [
    "sue.pendown()\n",
    "sue.forward(50)"
   ]
  },
  {
   "cell_type": "markdown",
   "metadata": {
    "deletable": false,
    "editable": false,
    "run_control": {
     "frozen": true
    }
   },
   "source": [
    "You can reset a `Turtle`.  This erases the trail and resets the turtles internal state."
   ]
  },
  {
   "cell_type": "code",
   "execution_count": 7,
   "metadata": {
    "deletable": false,
    "editable": false
   },
   "outputs": [],
   "source": [
    "sue.reset()"
   ]
  },
  {
   "cell_type": "markdown",
   "metadata": {
    "deletable": false,
    "editable": false,
    "run_control": {
     "frozen": true
    }
   },
   "source": [
    "A `Turtle` object also has methods that allow you to access its state.  A few of these are here.  You can run this cell at any point and display some of `sue`'s internal state."
   ]
  },
  {
   "cell_type": "code",
   "execution_count": 8,
   "metadata": {
    "deletable": false,
    "editable": false
   },
   "outputs": [
    {
     "name": "stdout",
     "output_type": "stream",
     "text": [
      "sue.x=0.0\n",
      "sue.y=0.0\n",
      "sue.heading=0.0\n"
     ]
    }
   ],
   "source": [
    "print('sue.x=' + str(sue.xcor()))\n",
    "print('sue.y=' + str(sue.ycor()))\n",
    "print('sue.heading=' + str(sue.heading()))"
   ]
  },
  {
   "cell_type": "markdown",
   "metadata": {
    "deletable": false,
    "editable": false,
    "run_control": {
     "frozen": true
    }
   },
   "source": [
    "To close a Turtle Window use the *Restart & Clear Output* from the *Kernel* menu. This can also be done using the *circular arrow* button on the toolbar.\n",
    "\n",
    "Sometimes the `Turtle` window behaves strangely, giving errors or not reflecting the execution of your statements.  When this happens, try running the cell again.  If that doesn't work then *Restart & Clear Output* and run the relevant cells again. "
   ]
  },
  {
   "cell_type": "markdown",
   "metadata": {
    "deletable": false,
    "editable": false,
    "run_control": {
     "frozen": true
    }
   },
   "source": [
    "### Class 07: Multiple `Turtle` Objects"
   ]
  },
  {
   "cell_type": "markdown",
   "metadata": {
    "deletable": false,
    "editable": false,
    "run_control": {
     "frozen": true
    }
   },
   "source": [
    "We can have multiple `Turtle` objects in the same program.  Each one has its own internal state."
   ]
  },
  {
   "cell_type": "code",
   "execution_count": 9,
   "metadata": {
    "deletable": false,
    "editable": false
   },
   "outputs": [],
   "source": [
    "import turtle\n",
    "\n",
    "sue = turtle.Turtle()\n",
    "joe = turtle.Turtle()"
   ]
  },
  {
   "cell_type": "markdown",
   "metadata": {
    "deletable": false,
    "editable": false,
    "run_control": {
     "frozen": true
    }
   },
   "source": [
    "Use the variable name that *refers* to the `Turtle` whose state you want to use with the method:"
   ]
  },
  {
   "cell_type": "code",
   "execution_count": 12,
   "metadata": {
    "deletable": false,
    "editable": false
   },
   "outputs": [],
   "source": [
    "sue.pencolor('red')\n",
    "sue.forward(100)\n",
    "\n",
    "joe.pencolor('blue')\n",
    "joe.left(90)\n",
    "joe.forward(50)"
   ]
  },
  {
   "cell_type": "markdown",
   "metadata": {
    "deletable": false,
    "editable": false,
    "run_control": {
     "frozen": true
    }
   },
   "source": [
    "We can see each turtle's internal state:"
   ]
  },
  {
   "cell_type": "code",
   "execution_count": 13,
   "metadata": {
    "deletable": false,
    "editable": false
   },
   "outputs": [
    {
     "name": "stdout",
     "output_type": "stream",
     "text": [
      "sue:\n",
      "  sue.x=200.0\n",
      "  sue.y=0.0\n",
      "  sue.heading=0.0\n",
      "joe:\n",
      "  joe.x=-50.0\n",
      "  joe.y=50.00000000000001\n",
      "  joe.heading=180.0\n"
     ]
    }
   ],
   "source": [
    "print(\"sue:\")\n",
    "print('  sue.x=' + str(sue.xcor()))\n",
    "print('  sue.y=' + str(sue.ycor()))\n",
    "print('  sue.heading=' + str(sue.heading()))\n",
    "\n",
    "print(\"joe:\")\n",
    "print('  joe.x=' + str(joe.xcor()))\n",
    "print('  joe.y=' + str(joe.ycor()))\n",
    "print('  joe.heading=' + str(joe.heading()))"
   ]
  },
  {
   "cell_type": "code",
   "execution_count": null,
   "metadata": {},
   "outputs": [],
   "source": []
  }
 ],
 "metadata": {
  "kernelspec": {
   "display_name": "Python 3",
   "language": "python",
   "name": "python3"
  },
  "language_info": {
   "codemirror_mode": {
    "name": "ipython",
    "version": 3
   },
   "file_extension": ".py",
   "mimetype": "text/x-python",
   "name": "python",
   "nbconvert_exporter": "python",
   "pygments_lexer": "ipython3",
   "version": "3.7.3"
  }
 },
 "nbformat": 4,
 "nbformat_minor": 2
}
